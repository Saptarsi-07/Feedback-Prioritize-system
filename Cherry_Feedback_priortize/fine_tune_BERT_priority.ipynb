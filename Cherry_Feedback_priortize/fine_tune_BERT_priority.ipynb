{
  "cells": [
    {
      "cell_type": "code",
      "execution_count": 19,
      "metadata": {
        "id": "KyBJM6cLPvJL"
      },
      "outputs": [],
      "source": [
        "import pandas as pd\n",
        "custom=pd.read_csv(\"Finetune - give as python list (1).csv\")"
      ]
    },
    {
      "cell_type": "code",
      "execution_count": 20,
      "metadata": {
        "colab": {
          "base_uri": "https://localhost:8080/",
          "height": 206
        },
        "id": "nwS_8T60P_BT",
        "outputId": "9f8fb768-c932-4e23-89a4-feefc07ab6f0"
      },
      "outputs": [
        {
          "data": {
            "text/html": [
              "<div>\n",
              "<style scoped>\n",
              "    .dataframe tbody tr th:only-of-type {\n",
              "        vertical-align: middle;\n",
              "    }\n",
              "\n",
              "    .dataframe tbody tr th {\n",
              "        vertical-align: top;\n",
              "    }\n",
              "\n",
              "    .dataframe thead th {\n",
              "        text-align: right;\n",
              "    }\n",
              "</style>\n",
              "<table border=\"1\" class=\"dataframe\">\n",
              "  <thead>\n",
              "    <tr style=\"text-align: right;\">\n",
              "      <th></th>\n",
              "      <th>Feedback</th>\n",
              "      <th>Priority</th>\n",
              "    </tr>\n",
              "  </thead>\n",
              "  <tbody>\n",
              "    <tr>\n",
              "      <th>0</th>\n",
              "      <td>Deposit of ₹10,000 not reflecting in my accoun...</td>\n",
              "      <td>1</td>\n",
              "    </tr>\n",
              "    <tr>\n",
              "      <th>1</th>\n",
              "      <td>Mutual fund purchase debited from my bank acco...</td>\n",
              "      <td>1</td>\n",
              "    </tr>\n",
              "    <tr>\n",
              "      <th>2</th>\n",
              "      <td>Dividend payout from stock I sold missing from...</td>\n",
              "      <td>1</td>\n",
              "    </tr>\n",
              "    <tr>\n",
              "      <th>3</th>\n",
              "      <td>Unable to withdraw funds. Stuck in 'Processing...</td>\n",
              "      <td>1</td>\n",
              "    </tr>\n",
              "    <tr>\n",
              "      <th>4</th>\n",
              "      <td>Suspicious activity alert for unauthorized sto...</td>\n",
              "      <td>1</td>\n",
              "    </tr>\n",
              "  </tbody>\n",
              "</table>\n",
              "</div>"
            ],
            "text/plain": [
              "                                            Feedback  Priority\n",
              "0  Deposit of ₹10,000 not reflecting in my accoun...         1\n",
              "1  Mutual fund purchase debited from my bank acco...         1\n",
              "2  Dividend payout from stock I sold missing from...         1\n",
              "3  Unable to withdraw funds. Stuck in 'Processing...         1\n",
              "4  Suspicious activity alert for unauthorized sto...         1"
            ]
          },
          "execution_count": 20,
          "metadata": {},
          "output_type": "execute_result"
        }
      ],
      "source": [
        "custom.head()"
      ]
    },
    {
      "cell_type": "code",
      "execution_count": 21,
      "metadata": {
        "colab": {
          "base_uri": "https://localhost:8080/"
        },
        "id": "xzoa2WePQD1Y",
        "outputId": "16f1f682-93e9-40ff-8cbe-73a3b4d2f696"
      },
      "outputs": [
        {
          "data": {
            "text/plain": [
              "(147, 2)"
            ]
          },
          "execution_count": 21,
          "metadata": {},
          "output_type": "execute_result"
        }
      ],
      "source": [
        "custom.shape"
      ]
    },
    {
      "cell_type": "code",
      "execution_count": 23,
      "metadata": {
        "colab": {
          "base_uri": "https://localhost:8080/"
        },
        "id": "dD_CpnaGS5Lp",
        "outputId": "26d45d45-6459-408d-a181-6150a9fea806"
      },
      "outputs": [
        {
          "name": "stderr",
          "output_type": "stream",
          "text": [
            "Some weights of the model checkpoint at distilbert-base-uncased were not used when initializing DistilBertForSequenceClassification: ['vocab_layer_norm.weight', 'vocab_transform.bias', 'vocab_transform.weight', 'vocab_projector.bias', 'vocab_layer_norm.bias']\n",
            "- This IS expected if you are initializing DistilBertForSequenceClassification from the checkpoint of a model trained on another task or with another architecture (e.g. initializing a BertForSequenceClassification model from a BertForPreTraining model).\n",
            "- This IS NOT expected if you are initializing DistilBertForSequenceClassification from the checkpoint of a model that you expect to be exactly identical (initializing a BertForSequenceClassification model from a BertForSequenceClassification model).\n",
            "Some weights of DistilBertForSequenceClassification were not initialized from the model checkpoint at distilbert-base-uncased and are newly initialized: ['classifier.bias', 'pre_classifier.weight', 'pre_classifier.bias', 'classifier.weight']\n",
            "You should probably TRAIN this model on a down-stream task to be able to use it for predictions and inference.\n",
            "C:\\Users\\sapta\\AppData\\Local\\Packages\\PythonSoftwareFoundation.Python.3.11_qbz5n2kfra8p0\\LocalCache\\local-packages\\Python311\\site-packages\\transformers\\optimization.py:411: FutureWarning: This implementation of AdamW is deprecated and will be removed in a future version. Use the PyTorch implementation torch.optim.AdamW instead, or set `no_deprecation_warning=True` to disable this warning\n",
            "  warnings.warn(\n",
            "Epoch 1 Training: 100%|██████████| 4/4 [00:09<00:00,  2.48s/it]\n"
          ]
        },
        {
          "name": "stdout",
          "output_type": "stream",
          "text": [
            "Epoch 1, Training Loss: 0.6529857665300369\n"
          ]
        },
        {
          "name": "stderr",
          "output_type": "stream",
          "text": [
            "Epoch 1 Evaluation: 100%|██████████| 1/1 [00:00<00:00,  1.98it/s]\n"
          ]
        },
        {
          "name": "stdout",
          "output_type": "stream",
          "text": [
            "Epoch 1, Evaluation Loss: 0.5387446284294128\n"
          ]
        },
        {
          "name": "stderr",
          "output_type": "stream",
          "text": [
            "Epoch 2 Training: 100%|██████████| 4/4 [00:09<00:00,  2.28s/it]\n"
          ]
        },
        {
          "name": "stdout",
          "output_type": "stream",
          "text": [
            "Epoch 2, Training Loss: 0.4881639629602432\n"
          ]
        },
        {
          "name": "stderr",
          "output_type": "stream",
          "text": [
            "Epoch 2 Evaluation: 100%|██████████| 1/1 [00:00<00:00,  1.92it/s]\n"
          ]
        },
        {
          "name": "stdout",
          "output_type": "stream",
          "text": [
            "Epoch 2, Evaluation Loss: 0.37635114789009094\n"
          ]
        },
        {
          "name": "stderr",
          "output_type": "stream",
          "text": [
            "Epoch 3 Training: 100%|██████████| 4/4 [00:10<00:00,  2.58s/it]\n"
          ]
        },
        {
          "name": "stdout",
          "output_type": "stream",
          "text": [
            "Epoch 3, Training Loss: 0.38164122402668\n"
          ]
        },
        {
          "name": "stderr",
          "output_type": "stream",
          "text": [
            "Epoch 3 Evaluation: 100%|██████████| 1/1 [00:00<00:00,  2.01it/s]\n"
          ]
        },
        {
          "name": "stdout",
          "output_type": "stream",
          "text": [
            "Epoch 3, Evaluation Loss: 0.2769585847854614\n"
          ]
        },
        {
          "name": "stderr",
          "output_type": "stream",
          "text": [
            "Epoch 4 Training: 100%|██████████| 4/4 [00:10<00:00,  2.63s/it]\n"
          ]
        },
        {
          "name": "stdout",
          "output_type": "stream",
          "text": [
            "Epoch 4, Training Loss: 0.29586440324783325\n"
          ]
        },
        {
          "name": "stderr",
          "output_type": "stream",
          "text": [
            "Epoch 4 Evaluation: 100%|██████████| 1/1 [00:00<00:00,  2.01it/s]\n"
          ]
        },
        {
          "name": "stdout",
          "output_type": "stream",
          "text": [
            "Epoch 4, Evaluation Loss: 0.2252878099679947\n"
          ]
        },
        {
          "name": "stderr",
          "output_type": "stream",
          "text": [
            "Epoch 5 Training: 100%|██████████| 4/4 [00:08<00:00,  2.22s/it]\n"
          ]
        },
        {
          "name": "stdout",
          "output_type": "stream",
          "text": [
            "Epoch 5, Training Loss: 0.2478528805077076\n"
          ]
        },
        {
          "name": "stderr",
          "output_type": "stream",
          "text": [
            "Epoch 5 Evaluation: 100%|██████████| 1/1 [00:00<00:00,  2.19it/s]\n"
          ]
        },
        {
          "name": "stdout",
          "output_type": "stream",
          "text": [
            "Epoch 5, Evaluation Loss: 0.18241405487060547\n"
          ]
        },
        {
          "name": "stderr",
          "output_type": "stream",
          "text": [
            "Epoch 6 Training: 100%|██████████| 4/4 [00:09<00:00,  2.30s/it]\n"
          ]
        },
        {
          "name": "stdout",
          "output_type": "stream",
          "text": [
            "Epoch 6, Training Loss: 0.20912672951817513\n"
          ]
        },
        {
          "name": "stderr",
          "output_type": "stream",
          "text": [
            "Epoch 6 Evaluation: 100%|██████████| 1/1 [00:00<00:00,  1.96it/s]\n"
          ]
        },
        {
          "name": "stdout",
          "output_type": "stream",
          "text": [
            "Epoch 6, Evaluation Loss: 0.156773179769516\n"
          ]
        },
        {
          "data": {
            "text/plain": [
              "('fine_tune_distilbert_tokenizer\\\\tokenizer_config.json',\n",
              " 'fine_tune_distilbert_tokenizer\\\\special_tokens_map.json',\n",
              " 'fine_tune_distilbert_tokenizer\\\\vocab.txt',\n",
              " 'fine_tune_distilbert_tokenizer\\\\added_tokens.json')"
            ]
          },
          "execution_count": 23,
          "metadata": {},
          "output_type": "execute_result"
        }
      ],
      "source": [
        "import torch\n",
        "from transformers import DistilBertTokenizer, DistilBertForSequenceClassification, AdamW\n",
        "from torch.utils.data import DataLoader, Dataset, random_split\n",
        "from sklearn.model_selection import train_test_split\n",
        "from tqdm import tqdm\n",
        "import pandas as pd\n",
        "\n",
        "# Load your DataFrame\n",
        "# For example, assuming 'custom' is your DataFrame\n",
        "# custom = pd.read_csv(\"your_dataset.csv\")\n",
        "\n",
        "# Extract text and labels from the DataFrame\n",
        "texts = custom[\"Feedback\"].tolist()\n",
        "labels = custom[\"Priority\"].tolist()\n",
        "\n",
        "# Tokenize the texts using DistilBERT tokenizer\n",
        "tokenizer = DistilBertTokenizer.from_pretrained(\"distilbert-base-uncased\")\n",
        "tokenized_texts = tokenizer(texts, padding=True, truncation=True)\n",
        "\n",
        "# Define a custom dataset class\n",
        "class CustomDataset(Dataset):\n",
        "    def __init__(self, tokenized_texts, labels):\n",
        "        self.tokenized_texts = tokenized_texts\n",
        "        self.labels = labels\n",
        "\n",
        "    def __getitem__(self, idx):\n",
        "        return {\n",
        "            \"input_ids\": torch.tensor(self.tokenized_texts[\"input_ids\"][idx], dtype=torch.long),\n",
        "            \"attention_mask\": torch.tensor(self.tokenized_texts[\"attention_mask\"][idx], dtype=torch.long),\n",
        "            \"labels\": torch.tensor(self.labels[idx], dtype=torch.long),\n",
        "        }\n",
        "\n",
        "    def __len__(self):\n",
        "        return len(self.labels)\n",
        "\n",
        "# Split the dataset into training and evaluation sets\n",
        "train_size = int(0.8 * len(texts))\n",
        "eval_size = len(texts) - train_size\n",
        "train_texts, eval_texts, train_labels, eval_labels = train_test_split(texts, labels, test_size=0.2, random_state=42)\n",
        "\n",
        "# Tokenize the training and evaluation sets\n",
        "train_tokenized_texts = tokenizer(train_texts, padding=True, truncation=True)\n",
        "eval_tokenized_texts = tokenizer(eval_texts, padding=True, truncation=True)\n",
        "\n",
        "# Create DataLoader for training and evaluation\n",
        "train_dataset = CustomDataset(train_tokenized_texts, train_labels)\n",
        "eval_dataset = CustomDataset(eval_tokenized_texts, eval_labels)\n",
        "\n",
        "train_dataloader = DataLoader(train_dataset, batch_size=32, shuffle=True)\n",
        "eval_dataloader = DataLoader(eval_dataset, batch_size=32, shuffle=False)\n",
        "\n",
        "# Load pre-trained DistilBERT model for sequence classification\n",
        "model = DistilBertForSequenceClassification.from_pretrained(\"distilbert-base-uncased\", num_labels=len(set(labels)))\n",
        "\n",
        "# Define optimizer and learning rate scheduler\n",
        "optimizer = AdamW(model.parameters(), lr=2e-5)\n",
        "num_epochs = 6\n",
        "\n",
        "# Fine-tuning loop\n",
        "for epoch in range(num_epochs):\n",
        "    model.train()\n",
        "    total_loss = 0\n",
        "\n",
        "    for batch in tqdm(train_dataloader, desc=f\"Epoch {epoch + 1} Training\"):\n",
        "        input_ids = batch[\"input_ids\"]\n",
        "        attention_mask = batch[\"attention_mask\"]\n",
        "        labels = batch[\"labels\"]\n",
        "\n",
        "        optimizer.zero_grad()\n",
        "\n",
        "        outputs = model(input_ids, attention_mask=attention_mask, labels=labels)\n",
        "        loss = outputs.loss\n",
        "        total_loss += loss.item()\n",
        "\n",
        "        loss.backward()\n",
        "        optimizer.step()\n",
        "\n",
        "    average_loss = total_loss / len(train_dataloader)\n",
        "    print(f\"Epoch {epoch + 1}, Training Loss: {average_loss}\")\n",
        "\n",
        "    # Evaluation\n",
        "    model.eval()\n",
        "    total_eval_loss = 0\n",
        "\n",
        "    with torch.no_grad():\n",
        "        for batch in tqdm(eval_dataloader, desc=f\"Epoch {epoch + 1} Evaluation\"):\n",
        "            input_ids = batch[\"input_ids\"]\n",
        "            attention_mask = batch[\"attention_mask\"]\n",
        "            labels = batch[\"labels\"]\n",
        "\n",
        "            outputs = model(input_ids, attention_mask=attention_mask, labels=labels)\n",
        "            loss = outputs.loss\n",
        "            total_eval_loss += loss.item()\n",
        "\n",
        "    average_eval_loss = total_eval_loss / len(eval_dataloader)\n",
        "    print(f\"Epoch {epoch + 1}, Evaluation Loss: {average_eval_loss}\")\n",
        "\n",
        "# Save the fine-tuned model\n",
        "model.save_pretrained(\"fine_tune_distilbert_model\")\n",
        "tokenizer.save_pretrained(\"fine_tune_distilbert_tokenizer\")\n"
      ]
    },
    {
      "cell_type": "code",
      "execution_count": null,
      "metadata": {
        "id": "nbts4gsgbtP7"
      },
      "outputs": [],
      "source": []
    },
    {
      "cell_type": "code",
      "execution_count": 27,
      "metadata": {
        "colab": {
          "base_uri": "https://localhost:8080/"
        },
        "id": "MBXWaKuFPyvn",
        "outputId": "cc250e09-f0e4-472d-baff-f016ba6ac385"
      },
      "outputs": [
        {
          "name": "stdout",
          "output_type": "stream",
          "text": [
            "Predicted Label: 1\n"
          ]
        }
      ],
      "source": [
        "import torch\n",
        "from transformers import DistilBertTokenizer, DistilBertForSequenceClassification\n",
        "\n",
        "# Load the fine-tuned model and tokenizer\n",
        "model = DistilBertForSequenceClassification.from_pretrained(\"fine_tune_distilbert_model\")\n",
        "tokenizer = DistilBertTokenizer.from_pretrained(\"fine_tune_distilbert_tokenizer\")\n",
        "\n",
        "# Example of new input text\n",
        "new_input_text = \"Buy option is not working cannot place order\"\n",
        "\n",
        "# Tokenize the new input text\n",
        "tokenized_input = tokenizer(new_input_text, padding=True, truncation=True, return_tensors=\"pt\")\n",
        "\n",
        "# Make the prediction\n",
        "model.eval()\n",
        "with torch.no_grad():\n",
        "    input_ids = tokenized_input[\"input_ids\"]\n",
        "    attention_mask = tokenized_input[\"attention_mask\"]\n",
        "    outputs = model(input_ids, attention_mask=attention_mask)\n",
        "\n",
        "# Get the predicted label\n",
        "logits = outputs.logits\n",
        "predicted_label = torch.argmax(logits, dim=1).item()\n",
        "\n",
        "print(f\"Predicted Label: {predicted_label}\")\n"
      ]
    },
    {
      "cell_type": "code",
      "execution_count": null,
      "metadata": {
        "id": "6PdWy44XX0Ae"
      },
      "outputs": [],
      "source": []
    },
    {
      "cell_type": "code",
      "execution_count": null,
      "metadata": {
        "id": "nqHN_zYNcxCo"
      },
      "outputs": [],
      "source": []
    },
    {
      "cell_type": "code",
      "execution_count": null,
      "metadata": {
        "id": "78OqkgmAdIyX"
      },
      "outputs": [],
      "source": []
    },
    {
      "cell_type": "code",
      "execution_count": null,
      "metadata": {
        "id": "cVILMQWtdxeD"
      },
      "outputs": [],
      "source": []
    },
    {
      "cell_type": "code",
      "execution_count": null,
      "metadata": {
        "id": "yNEmksdXeddg"
      },
      "outputs": [],
      "source": []
    }
  ],
  "metadata": {
    "colab": {
      "provenance": []
    },
    "kernelspec": {
      "display_name": "Python 3",
      "name": "python3"
    },
    "language_info": {
      "codemirror_mode": {
        "name": "ipython",
        "version": 3
      },
      "file_extension": ".py",
      "mimetype": "text/x-python",
      "name": "python",
      "nbconvert_exporter": "python",
      "pygments_lexer": "ipython3",
      "version": "3.11.7"
    }
  },
  "nbformat": 4,
  "nbformat_minor": 0
}
